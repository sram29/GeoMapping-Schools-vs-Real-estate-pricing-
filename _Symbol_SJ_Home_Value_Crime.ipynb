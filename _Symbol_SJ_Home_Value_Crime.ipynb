{
 "cells": [
  {
   "cell_type": "code",
   "execution_count": 13,
   "metadata": {},
   "outputs": [],
   "source": [
    "import pandas as pd\n",
    "import os\n",
    "import gmaps\n",
    "import gmaps.datasets\n",
    "import requests\n",
    "import json"
   ]
  },
  {
   "cell_type": "code",
   "execution_count": 14,
   "metadata": {},
   "outputs": [
    {
     "name": "stdout",
     "output_type": "stream",
     "text": [
      "1000\n"
     ]
    }
   ],
   "source": [
    "file_one = os.path.join('Santa_Clara_Home_Appreciation2.csv')\n",
    "gmaps.configure(api_key=\"\")\n",
    "url='https://moto.data.socrata.com/resource/wrmr-tdyp.json'\n",
    "\n",
    "sheriff_reports=requests.get(url).json()\n",
    "crime_df=pd.DataFrame(sheriff_reports)\n",
    "print(len(crime_df))"
   ]
  },
  {
   "cell_type": "code",
   "execution_count": 15,
   "metadata": {},
   "outputs": [],
   "source": [
    "file_one_df = pd.read_csv(file_one)\n",
    "file_one_df = pd.read_csv(file_one, encoding=\"utf-8\")"
   ]
  },
  {
   "cell_type": "code",
   "execution_count": 16,
   "metadata": {},
   "outputs": [
    {
     "data": {
      "text/html": [
       "<div>\n",
       "<style>\n",
       "    .dataframe thead tr:only-child th {\n",
       "        text-align: right;\n",
       "    }\n",
       "\n",
       "    .dataframe thead th {\n",
       "        text-align: left;\n",
       "    }\n",
       "\n",
       "    .dataframe tbody tr th {\n",
       "        vertical-align: top;\n",
       "    }\n",
       "</style>\n",
       "<table border=\"1\" class=\"dataframe\">\n",
       "  <thead>\n",
       "    <tr style=\"text-align: right;\">\n",
       "      <th></th>\n",
       "      <th>Unnamed: 0</th>\n",
       "      <th>RegionID</th>\n",
       "      <th>City</th>\n",
       "      <th>State</th>\n",
       "      <th>Metro</th>\n",
       "      <th>CountyName</th>\n",
       "      <th>SizeRank</th>\n",
       "      <th>2007-01</th>\n",
       "      <th>2008-01</th>\n",
       "      <th>2009-01</th>\n",
       "      <th>...</th>\n",
       "      <th>2012-01</th>\n",
       "      <th>2013-01</th>\n",
       "      <th>2014-01</th>\n",
       "      <th>2015-01</th>\n",
       "      <th>2016-01</th>\n",
       "      <th>2017-01</th>\n",
       "      <th>LAT</th>\n",
       "      <th>LNG</th>\n",
       "      <th>Appreciation</th>\n",
       "      <th>Scale</th>\n",
       "    </tr>\n",
       "  </thead>\n",
       "  <tbody>\n",
       "    <tr>\n",
       "      <th>0</th>\n",
       "      <td>256</td>\n",
       "      <td>95123</td>\n",
       "      <td>San Jose</td>\n",
       "      <td>CA</td>\n",
       "      <td>San Jose</td>\n",
       "      <td>Santa Clara</td>\n",
       "      <td>257</td>\n",
       "      <td>668200</td>\n",
       "      <td>613200</td>\n",
       "      <td>510100</td>\n",
       "      <td>...</td>\n",
       "      <td>437100</td>\n",
       "      <td>533900</td>\n",
       "      <td>627900</td>\n",
       "      <td>687300</td>\n",
       "      <td>750400</td>\n",
       "      <td>797900</td>\n",
       "      <td>37.244238</td>\n",
       "      <td>-121.831604</td>\n",
       "      <td>82.544040</td>\n",
       "      <td>3</td>\n",
       "    </tr>\n",
       "    <tr>\n",
       "      <th>1</th>\n",
       "      <td>352</td>\n",
       "      <td>95035</td>\n",
       "      <td>Milpitas</td>\n",
       "      <td>CA</td>\n",
       "      <td>San Jose</td>\n",
       "      <td>Santa Clara</td>\n",
       "      <td>353</td>\n",
       "      <td>654200</td>\n",
       "      <td>630600</td>\n",
       "      <td>531800</td>\n",
       "      <td>...</td>\n",
       "      <td>481700</td>\n",
       "      <td>560100</td>\n",
       "      <td>656800</td>\n",
       "      <td>729900</td>\n",
       "      <td>818800</td>\n",
       "      <td>875400</td>\n",
       "      <td>37.444349</td>\n",
       "      <td>-121.868859</td>\n",
       "      <td>81.731368</td>\n",
       "      <td>3</td>\n",
       "    </tr>\n",
       "    <tr>\n",
       "      <th>2</th>\n",
       "      <td>379</td>\n",
       "      <td>95051</td>\n",
       "      <td>Santa Clara</td>\n",
       "      <td>CA</td>\n",
       "      <td>San Jose</td>\n",
       "      <td>Santa Clara</td>\n",
       "      <td>380</td>\n",
       "      <td>702400</td>\n",
       "      <td>677300</td>\n",
       "      <td>595000</td>\n",
       "      <td>...</td>\n",
       "      <td>566100</td>\n",
       "      <td>681400</td>\n",
       "      <td>762400</td>\n",
       "      <td>890000</td>\n",
       "      <td>1032900</td>\n",
       "      <td>1105900</td>\n",
       "      <td>37.348640</td>\n",
       "      <td>-121.984373</td>\n",
       "      <td>95.354178</td>\n",
       "      <td>5</td>\n",
       "    </tr>\n",
       "    <tr>\n",
       "      <th>3</th>\n",
       "      <td>404</td>\n",
       "      <td>95014</td>\n",
       "      <td>Cupertino</td>\n",
       "      <td>CA</td>\n",
       "      <td>San Jose</td>\n",
       "      <td>Santa Clara</td>\n",
       "      <td>405</td>\n",
       "      <td>1042400</td>\n",
       "      <td>1124300</td>\n",
       "      <td>1050100</td>\n",
       "      <td>...</td>\n",
       "      <td>1018500</td>\n",
       "      <td>1241200</td>\n",
       "      <td>1403200</td>\n",
       "      <td>1616900</td>\n",
       "      <td>1778100</td>\n",
       "      <td>1817400</td>\n",
       "      <td>37.306491</td>\n",
       "      <td>-122.080640</td>\n",
       "      <td>78.438881</td>\n",
       "      <td>3</td>\n",
       "    </tr>\n",
       "    <tr>\n",
       "      <th>4</th>\n",
       "      <td>457</td>\n",
       "      <td>94087</td>\n",
       "      <td>Sunnyvale</td>\n",
       "      <td>CA</td>\n",
       "      <td>San Jose</td>\n",
       "      <td>Santa Clara</td>\n",
       "      <td>458</td>\n",
       "      <td>924600</td>\n",
       "      <td>977000</td>\n",
       "      <td>919000</td>\n",
       "      <td>...</td>\n",
       "      <td>896900</td>\n",
       "      <td>1042600</td>\n",
       "      <td>1249200</td>\n",
       "      <td>1470200</td>\n",
       "      <td>1646200</td>\n",
       "      <td>1700800</td>\n",
       "      <td>37.351529</td>\n",
       "      <td>-122.036959</td>\n",
       "      <td>89.630951</td>\n",
       "      <td>4</td>\n",
       "    </tr>\n",
       "  </tbody>\n",
       "</table>\n",
       "<p>5 rows × 22 columns</p>\n",
       "</div>"
      ],
      "text/plain": [
       "   Unnamed: 0  RegionID         City State     Metro   CountyName  SizeRank  \\\n",
       "0         256     95123     San Jose    CA  San Jose  Santa Clara       257   \n",
       "1         352     95035     Milpitas    CA  San Jose  Santa Clara       353   \n",
       "2         379     95051  Santa Clara    CA  San Jose  Santa Clara       380   \n",
       "3         404     95014    Cupertino    CA  San Jose  Santa Clara       405   \n",
       "4         457     94087    Sunnyvale    CA  San Jose  Santa Clara       458   \n",
       "\n",
       "   2007-01  2008-01  2009-01  ...    2012-01  2013-01  2014-01  2015-01  \\\n",
       "0   668200   613200   510100  ...     437100   533900   627900   687300   \n",
       "1   654200   630600   531800  ...     481700   560100   656800   729900   \n",
       "2   702400   677300   595000  ...     566100   681400   762400   890000   \n",
       "3  1042400  1124300  1050100  ...    1018500  1241200  1403200  1616900   \n",
       "4   924600   977000   919000  ...     896900  1042600  1249200  1470200   \n",
       "\n",
       "   2016-01  2017-01        LAT         LNG  Appreciation  Scale  \n",
       "0   750400   797900  37.244238 -121.831604     82.544040      3  \n",
       "1   818800   875400  37.444349 -121.868859     81.731368      3  \n",
       "2  1032900  1105900  37.348640 -121.984373     95.354178      5  \n",
       "3  1778100  1817400  37.306491 -122.080640     78.438881      3  \n",
       "4  1646200  1700800  37.351529 -122.036959     89.630951      4  \n",
       "\n",
       "[5 rows x 22 columns]"
      ]
     },
     "execution_count": 16,
     "metadata": {},
     "output_type": "execute_result"
    }
   ],
   "source": [
    "file_one_df.head()"
   ]
  },
  {
   "cell_type": "code",
   "execution_count": 17,
   "metadata": {},
   "outputs": [
    {
     "data": {
      "text/html": [
       "<div>\n",
       "<style>\n",
       "    .dataframe thead tr:only-child th {\n",
       "        text-align: right;\n",
       "    }\n",
       "\n",
       "    .dataframe thead th {\n",
       "        text-align: left;\n",
       "    }\n",
       "\n",
       "    .dataframe tbody tr th {\n",
       "        vertical-align: top;\n",
       "    }\n",
       "</style>\n",
       "<table border=\"1\" class=\"dataframe\">\n",
       "  <thead>\n",
       "    <tr style=\"text-align: right;\">\n",
       "      <th></th>\n",
       "      <th>LAT</th>\n",
       "      <th>LNG</th>\n",
       "      <th>Appreciation</th>\n",
       "      <th>Scale</th>\n",
       "    </tr>\n",
       "  </thead>\n",
       "  <tbody>\n",
       "    <tr>\n",
       "      <th>0</th>\n",
       "      <td>37.244238</td>\n",
       "      <td>-121.831604</td>\n",
       "      <td>82.544040</td>\n",
       "      <td>3</td>\n",
       "    </tr>\n",
       "    <tr>\n",
       "      <th>1</th>\n",
       "      <td>37.444349</td>\n",
       "      <td>-121.868859</td>\n",
       "      <td>81.731368</td>\n",
       "      <td>3</td>\n",
       "    </tr>\n",
       "    <tr>\n",
       "      <th>2</th>\n",
       "      <td>37.348640</td>\n",
       "      <td>-121.984373</td>\n",
       "      <td>95.354178</td>\n",
       "      <td>5</td>\n",
       "    </tr>\n",
       "    <tr>\n",
       "      <th>3</th>\n",
       "      <td>37.306491</td>\n",
       "      <td>-122.080640</td>\n",
       "      <td>78.438881</td>\n",
       "      <td>3</td>\n",
       "    </tr>\n",
       "    <tr>\n",
       "      <th>4</th>\n",
       "      <td>37.351529</td>\n",
       "      <td>-122.036959</td>\n",
       "      <td>89.630951</td>\n",
       "      <td>4</td>\n",
       "    </tr>\n",
       "  </tbody>\n",
       "</table>\n",
       "</div>"
      ],
      "text/plain": [
       "         LAT         LNG  Appreciation  Scale\n",
       "0  37.244238 -121.831604     82.544040      3\n",
       "1  37.444349 -121.868859     81.731368      3\n",
       "2  37.348640 -121.984373     95.354178      5\n",
       "3  37.306491 -122.080640     78.438881      3\n",
       "4  37.351529 -122.036959     89.630951      4"
      ]
     },
     "execution_count": 17,
     "metadata": {},
     "output_type": "execute_result"
    }
   ],
   "source": [
    "home_apprec_df=file_one_df[['LAT','LNG','Appreciation','Scale']]\n",
    "home_apprec_df.head(5)"
   ]
  },
  {
   "cell_type": "code",
   "execution_count": 18,
   "metadata": {},
   "outputs": [
    {
     "data": {
      "text/html": [
       "<div>\n",
       "<style>\n",
       "    .dataframe thead tr:only-child th {\n",
       "        text-align: right;\n",
       "    }\n",
       "\n",
       "    .dataframe thead th {\n",
       "        text-align: left;\n",
       "    }\n",
       "\n",
       "    .dataframe tbody tr th {\n",
       "        vertical-align: top;\n",
       "    }\n",
       "</style>\n",
       "<table border=\"1\" class=\"dataframe\">\n",
       "  <thead>\n",
       "    <tr style=\"text-align: right;\">\n",
       "      <th></th>\n",
       "      <th>latitude</th>\n",
       "      <th>longitude</th>\n",
       "    </tr>\n",
       "  </thead>\n",
       "  <tbody>\n",
       "    <tr>\n",
       "      <th>0</th>\n",
       "      <td>37.3007963298659</td>\n",
       "      <td>-122.039332874362</td>\n",
       "    </tr>\n",
       "    <tr>\n",
       "      <th>1</th>\n",
       "      <td>37.2463001073712</td>\n",
       "      <td>-121.768668994571</td>\n",
       "    </tr>\n",
       "  </tbody>\n",
       "</table>\n",
       "</div>"
      ],
      "text/plain": [
       "           latitude          longitude\n",
       "0  37.3007963298659  -122.039332874362\n",
       "1  37.2463001073712  -121.768668994571"
      ]
     },
     "execution_count": 18,
     "metadata": {},
     "output_type": "execute_result"
    }
   ],
   "source": [
    "crime_locations=crime_df[['latitude','longitude']]\n",
    "crime_locations.head(2)"
   ]
  },
  {
   "cell_type": "code",
   "execution_count": 19,
   "metadata": {},
   "outputs": [
    {
     "name": "stdout",
     "output_type": "stream",
     "text": [
      "<class 'pandas.core.frame.DataFrame'>\n"
     ]
    }
   ],
   "source": [
    "locations = home_apprec_df[[\"LAT\",\"LNG\"]]\n",
    "scale = home_apprec_df[\"Scale\"].tolist()\n",
    "print(type(crime_locations))\n",
    "fig = gmaps.figure()\n",
    "symbol_layer = gmaps.symbol_layer(locations, scale=scale, stroke_color=\"Red\", fill_opacity=\"\")\n",
    "fig.add_layer(symbol_layer)\n",
    "crime_locations=crime_df[['latitude','longitude']].apply(pd.to_numeric)\n",
    "crime_layer=gmaps.symbol_layer(crime_locations,stroke_color='Green', scale=2, fill_opacity='')\n",
    "fig.add_layer(crime_layer)\n"
   ]
  },
  {
   "cell_type": "code",
   "execution_count": 20,
   "metadata": {},
   "outputs": [
    {
     "name": "stdout",
     "output_type": "stream",
     "text": [
      "1000\n"
     ]
    }
   ],
   "source": [
    "gmaps.heatmap_layer(crime_locations)\n",
    "\n",
    "print(len(crime_locations))\n",
    "\n",
    "\n",
    "#crime_locations.convert_objects(convert_numeric=True)\n",
    "#pd.to_numeric(crime_locations)\n"
   ]
  },
  {
   "cell_type": "code",
   "execution_count": 21,
   "metadata": {},
   "outputs": [
    {
     "data": {
      "text/plain": [
       "Unnamed: 0           int64\n",
       "address             object\n",
       "city                object\n",
       "district            object\n",
       "districtId         float64\n",
       "districtNCESId     float64\n",
       "enrollment         float64\n",
       "fax                 object\n",
       "gradeRange          object\n",
       "gsId                 int64\n",
       "gsRating             int64\n",
       "colorRating         object\n",
       "lat                float64\n",
       "lon                float64\n",
       "name                object\n",
       "ncesId             float64\n",
       "overviewLink        object\n",
       "parentRating       float64\n",
       "phone               object\n",
       "ratingsLink         object\n",
       "reviewsLink         object\n",
       "schoolStatsLink     object\n",
       "state               object\n",
       "type                object\n",
       "website             object\n",
       "dtype: object"
      ]
     },
     "execution_count": 21,
     "metadata": {},
     "output_type": "execute_result"
    }
   ],
   "source": [
    "charter_df = pd.DataFrame(pd.read_csv(\"SJcharter_colors.csv\"))\n",
    "charter_df.dtypes"
   ]
  },
  {
   "cell_type": "code",
   "execution_count": 22,
   "metadata": {},
   "outputs": [
    {
     "data": {
      "application/vnd.jupyter.widget-view+json": {
       "model_id": "bdbacad829a34487afa1178dba8be61f",
       "version_major": 2,
       "version_minor": 0
      },
      "text/html": [
       "<p>Failed to display Jupyter Widget of type <code>Figure</code>.</p>\n",
       "<p>\n",
       "  If you're reading this message in the Jupyter Notebook or JupyterLab Notebook, it may mean\n",
       "  that the widgets JavaScript is still loading. If this message persists, it\n",
       "  likely means that the widgets JavaScript library is either not installed or\n",
       "  not enabled. See the <a href=\"https://ipywidgets.readthedocs.io/en/stable/user_install.html\">Jupyter\n",
       "  Widgets Documentation</a> for setup instructions.\n",
       "</p>\n",
       "<p>\n",
       "  If you're reading this message in another frontend (for example, a static\n",
       "  rendering on GitHub or <a href=\"https://nbviewer.jupyter.org/\">NBViewer</a>),\n",
       "  it may mean that your frontend doesn't currently support widgets.\n",
       "</p>\n"
      ],
      "text/plain": [
       "Figure()"
      ]
     },
     "metadata": {},
     "output_type": "display_data"
    }
   ],
   "source": [
    "# public_df = pd.DataFrame(pd.read_csv(\"SJpublic_color.csv\"))\n",
    "# locations = public_df[[\"lat\", \"lon\"]]\n",
    "# weights = public_df[\"gsRating\"]\n",
    "# colors = []\n",
    "\n",
    "# for rating in public_df[\"gsRating\"]:\n",
    "#     if rating <= 3:\n",
    "#         colors.append('red')\n",
    "#     elif rating >3 and rating <7:\n",
    "#         colors.append('yellow')\n",
    "#     else:\n",
    "#         colors.append('green')\n",
    "        \n",
    "\n",
    "# fig.add_layer(gmaps.symbol_layer(locations, fill_color= colors, stroke_color = colors))\n",
    "fig"
   ]
  },
  {
   "cell_type": "code",
   "execution_count": null,
   "metadata": {},
   "outputs": [],
   "source": []
  }
 ],
 "metadata": {
  "kernelspec": {
   "display_name": "Python 3",
   "language": "python",
   "name": "python3"
  },
  "language_info": {
   "codemirror_mode": {
    "name": "ipython",
    "version": 3
   },
   "file_extension": ".py",
   "mimetype": "text/x-python",
   "name": "python",
   "nbconvert_exporter": "python",
   "pygments_lexer": "ipython3",
   "version": "3.6.3"
  }
 },
 "nbformat": 4,
 "nbformat_minor": 2
}
