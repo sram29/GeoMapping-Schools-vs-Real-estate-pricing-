{
 "cells": [
  {
   "cell_type": "code",
   "execution_count": 1,
   "metadata": {},
   "outputs": [],
   "source": [
    "import pandas as pd\n",
    "import numpy as np\n",
    "import os\n",
    "import gmaps\n",
    "import gmaps.datasets"
   ]
  },
  {
   "cell_type": "code",
   "execution_count": 2,
   "metadata": {},
   "outputs": [],
   "source": [
    "gmaps.configure(api_key=\"\")"
   ]
  },
  {
   "cell_type": "code",
   "execution_count": 3,
   "metadata": {},
   "outputs": [
    {
     "data": {
      "text/plain": [
       "Unnamed: 0           int64\n",
       "address             object\n",
       "city                object\n",
       "district            object\n",
       "districtId         float64\n",
       "districtNCESId     float64\n",
       "enrollment         float64\n",
       "fax                 object\n",
       "gradeRange          object\n",
       "gsId                 int64\n",
       "gsRating             int64\n",
       "colorRating         object\n",
       "lat                float64\n",
       "lon                float64\n",
       "name                object\n",
       "ncesId             float64\n",
       "overviewLink        object\n",
       "parentRating       float64\n",
       "phone               object\n",
       "ratingsLink         object\n",
       "reviewsLink         object\n",
       "schoolStatsLink     object\n",
       "state               object\n",
       "type                object\n",
       "website             object\n",
       "dtype: object"
      ]
     },
     "execution_count": 3,
     "metadata": {},
     "output_type": "execute_result"
    }
   ],
   "source": [
    "charter_df = pd.DataFrame(pd.read_csv(\"SJcharter_colors.csv\"))\n",
    "charter_df.dtypes"
   ]
  },
  {
   "cell_type": "code",
   "execution_count": 4,
   "metadata": {},
   "outputs": [
    {
     "data": {
      "application/vnd.jupyter.widget-view+json": {
       "model_id": "e9556abd22b64dbc839bf60903a2f039",
       "version_major": 2,
       "version_minor": 0
      },
      "text/html": [
       "<p>Failed to display Jupyter Widget of type <code>Figure</code>.</p>\n",
       "<p>\n",
       "  If you're reading this message in the Jupyter Notebook or JupyterLab Notebook, it may mean\n",
       "  that the widgets JavaScript is still loading. If this message persists, it\n",
       "  likely means that the widgets JavaScript library is either not installed or\n",
       "  not enabled. See the <a href=\"https://ipywidgets.readthedocs.io/en/stable/user_install.html\">Jupyter\n",
       "  Widgets Documentation</a> for setup instructions.\n",
       "</p>\n",
       "<p>\n",
       "  If you're reading this message in another frontend (for example, a static\n",
       "  rendering on GitHub or <a href=\"https://nbviewer.jupyter.org/\">NBViewer</a>),\n",
       "  it may mean that your frontend doesn't currently support widgets.\n",
       "</p>\n"
      ],
      "text/plain": [
       "Figure()"
      ]
     },
     "metadata": {},
     "output_type": "display_data"
    }
   ],
   "source": [
    "locations = charter_df[[\"lat\", \"lon\"]]\n",
    "weights = charter_df[\"gsRating\"]\n",
    "colors = []\n",
    "\n",
    "for rating in charter_df[\"gsRating\"]:\n",
    "    if rating <= 3:\n",
    "        colors.append('red')\n",
    "    elif rating >3 and rating <7:\n",
    "        colors.append('yellow')\n",
    "    else:\n",
    "        colors.append('green')\n",
    "        \n",
    "fig = gmaps.figure()\n",
    "#fig.add_layer(gmaps.heatmap_layer(locations, weights=weights))\n",
    "fig.add_layer(gmaps.symbol_layer(locations, fill_color=colors, stroke_color = colors))\n",
    "fig"
   ]
  },
  {
   "cell_type": "code",
   "execution_count": 5,
   "metadata": {},
   "outputs": [
    {
     "data": {
      "application/vnd.jupyter.widget-view+json": {
       "model_id": "be174089c091423aa23fef1aff5b0d8b",
       "version_major": 2,
       "version_minor": 0
      },
      "text/html": [
       "<p>Failed to display Jupyter Widget of type <code>Figure</code>.</p>\n",
       "<p>\n",
       "  If you're reading this message in the Jupyter Notebook or JupyterLab Notebook, it may mean\n",
       "  that the widgets JavaScript is still loading. If this message persists, it\n",
       "  likely means that the widgets JavaScript library is either not installed or\n",
       "  not enabled. See the <a href=\"https://ipywidgets.readthedocs.io/en/stable/user_install.html\">Jupyter\n",
       "  Widgets Documentation</a> for setup instructions.\n",
       "</p>\n",
       "<p>\n",
       "  If you're reading this message in another frontend (for example, a static\n",
       "  rendering on GitHub or <a href=\"https://nbviewer.jupyter.org/\">NBViewer</a>),\n",
       "  it may mean that your frontend doesn't currently support widgets.\n",
       "</p>\n"
      ],
      "text/plain": [
       "Figure()"
      ]
     },
     "metadata": {},
     "output_type": "display_data"
    }
   ],
   "source": [
    "public_df = pd.DataFrame(pd.read_csv(\"SJpublic_color.csv\"))\n",
    "plocations = public_df[[\"lat\", \"lon\"]]\n",
    "pweights = public_df[\"gsRating\"]\n",
    "pcolors = []\n",
    "\n",
    "for rating in public_df[\"gsRating\"]:\n",
    "    if rating <= 3:\n",
    "        pcolors.append('red')\n",
    "    elif rating >3 and rating <7:\n",
    "        pcolors.append('yellow')\n",
    "    else:\n",
    "        pcolors.append('green')\n",
    "        \n",
    "pfig = gmaps.figure()\n",
    "pfig.add_layer(gmaps.symbol_layer(plocations, fill_color= pcolors, stroke_color = pcolors))\n",
    "pfig"
   ]
  },
  {
   "cell_type": "code",
   "execution_count": 7,
   "metadata": {},
   "outputs": [
    {
     "data": {
      "application/vnd.jupyter.widget-view+json": {
       "model_id": "e9556abd22b64dbc839bf60903a2f039",
       "version_major": 2,
       "version_minor": 0
      },
      "text/html": [
       "<p>Failed to display Jupyter Widget of type <code>Figure</code>.</p>\n",
       "<p>\n",
       "  If you're reading this message in the Jupyter Notebook or JupyterLab Notebook, it may mean\n",
       "  that the widgets JavaScript is still loading. If this message persists, it\n",
       "  likely means that the widgets JavaScript library is either not installed or\n",
       "  not enabled. See the <a href=\"https://ipywidgets.readthedocs.io/en/stable/user_install.html\">Jupyter\n",
       "  Widgets Documentation</a> for setup instructions.\n",
       "</p>\n",
       "<p>\n",
       "  If you're reading this message in another frontend (for example, a static\n",
       "  rendering on GitHub or <a href=\"https://nbviewer.jupyter.org/\">NBViewer</a>),\n",
       "  it may mean that your frontend doesn't currently support widgets.\n",
       "</p>\n"
      ],
      "text/plain": [
       "Figure()"
      ]
     },
     "metadata": {},
     "output_type": "display_data"
    }
   ],
   "source": [
    "opencharter_df = pd.DataFrame(pd.read_csv('top5CA_OpenSchools.csv'))\n",
    "\n",
    "\n",
    "openchartersj_df = opencharter_df.loc[opencharter_df[\"City\"]==\"San Jose\"]\n",
    "\n",
    "clocations = openchartersj_df[[\"Latitude\",\"Longitude\"]]\n",
    "\n",
    "# allcfig = gmaps.figure()\n",
    "fig.add_layer(gmaps.symbol_layer(clocations, fill_color= \"blue\", stroke_color = \"blue\"))\n",
    "fig"
   ]
  },
  {
   "cell_type": "code",
   "execution_count": null,
   "metadata": {
    "collapsed": true
   },
   "outputs": [],
   "source": [
    "|"
   ]
  }
 ],
 "metadata": {
  "kernelspec": {
   "display_name": "Python 3",
   "language": "python",
   "name": "python3"
  },
  "language_info": {
   "codemirror_mode": {
    "name": "ipython",
    "version": 3
   },
   "file_extension": ".py",
   "mimetype": "text/x-python",
   "name": "python",
   "nbconvert_exporter": "python",
   "pygments_lexer": "ipython3",
   "version": "3.6.3"
  }
 },
 "nbformat": 4,
 "nbformat_minor": 2
}
