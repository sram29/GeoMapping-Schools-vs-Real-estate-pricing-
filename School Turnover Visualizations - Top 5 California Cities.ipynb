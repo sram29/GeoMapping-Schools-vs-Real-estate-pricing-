{
 "cells": [
  {
   "cell_type": "code",
   "execution_count": 98,
   "metadata": {
    "collapsed": true
   },
   "outputs": [],
   "source": [
    "import pandas as pd\n",
    "import matplotlib.pyplot as plt\n",
    "import numpy as np\n",
    "import datetime"
   ]
  },
  {
   "cell_type": "code",
   "execution_count": 119,
   "metadata": {
    "collapsed": true
   },
   "outputs": [],
   "source": [
    "top5_open_df = pd.DataFrame(pd.read_csv(\"top5CA_OpenSchools.csv\"))\n",
    "top5_closed_df = pd.DataFrame(pd.read_csv(\"top5CA_ClosedSchools.csv\"))"
   ]
  },
  {
   "cell_type": "code",
   "execution_count": 120,
   "metadata": {},
   "outputs": [
    {
     "data": {
      "text/html": [
       "<div>\n",
       "<style>\n",
       "    .dataframe thead tr:only-child th {\n",
       "        text-align: right;\n",
       "    }\n",
       "\n",
       "    .dataframe thead th {\n",
       "        text-align: left;\n",
       "    }\n",
       "\n",
       "    .dataframe tbody tr th {\n",
       "        vertical-align: top;\n",
       "    }\n",
       "</style>\n",
       "<table border=\"1\" class=\"dataframe\">\n",
       "  <thead>\n",
       "    <tr style=\"text-align: right;\">\n",
       "      <th></th>\n",
       "      <th>CDSCode</th>\n",
       "      <th>NCESDist</th>\n",
       "      <th>NCESSchool</th>\n",
       "      <th>StatusType</th>\n",
       "      <th>County</th>\n",
       "      <th>District</th>\n",
       "      <th>School</th>\n",
       "      <th>Street</th>\n",
       "      <th>StreetAbr</th>\n",
       "      <th>City</th>\n",
       "      <th>...</th>\n",
       "      <th>SOC</th>\n",
       "      <th>SOCType</th>\n",
       "      <th>EdOpsCode</th>\n",
       "      <th>EdOpsName</th>\n",
       "      <th>EILCode</th>\n",
       "      <th>EILName</th>\n",
       "      <th>Virtual</th>\n",
       "      <th>Magnet</th>\n",
       "      <th>Latitude</th>\n",
       "      <th>Longitude</th>\n",
       "    </tr>\n",
       "  </thead>\n",
       "  <tbody>\n",
       "    <tr>\n",
       "      <th>0</th>\n",
       "      <td>4.310000e+13</td>\n",
       "      <td>691035.0</td>\n",
       "      <td>11316.0</td>\n",
       "      <td>Closed</td>\n",
       "      <td>Santa Clara</td>\n",
       "      <td>Santa Clara County Office of Education</td>\n",
       "      <td>EDGE</td>\n",
       "      <td>258 Sunol Street MC 331</td>\n",
       "      <td>258 Sunol St. MC 331</td>\n",
       "      <td>San Jose</td>\n",
       "      <td>...</td>\n",
       "      <td>69.0</td>\n",
       "      <td>District Community Day Schools</td>\n",
       "      <td>COMMDAY</td>\n",
       "      <td>Community Day School</td>\n",
       "      <td>HS</td>\n",
       "      <td>High School</td>\n",
       "      <td>NaN</td>\n",
       "      <td>NaN</td>\n",
       "      <td>37.324874</td>\n",
       "      <td>-121.90609</td>\n",
       "    </tr>\n",
       "    <tr>\n",
       "      <th>1</th>\n",
       "      <td>4.310000e+13</td>\n",
       "      <td>691035.0</td>\n",
       "      <td>11441.0</td>\n",
       "      <td>Closed</td>\n",
       "      <td>Santa Clara</td>\n",
       "      <td>Santa Clara County Office of Education</td>\n",
       "      <td>Leadership Public Schools - San Jose</td>\n",
       "      <td>1881 Cunningham Avenue</td>\n",
       "      <td>1881 Cunningham Ave.</td>\n",
       "      <td>San Jose</td>\n",
       "      <td>...</td>\n",
       "      <td>66.0</td>\n",
       "      <td>High Schools (Public)</td>\n",
       "      <td>TRAD</td>\n",
       "      <td>Traditional</td>\n",
       "      <td>HS</td>\n",
       "      <td>High School</td>\n",
       "      <td>N</td>\n",
       "      <td>N</td>\n",
       "      <td>37.330395</td>\n",
       "      <td>-121.82878</td>\n",
       "    </tr>\n",
       "    <tr>\n",
       "      <th>2</th>\n",
       "      <td>4.310000e+13</td>\n",
       "      <td>691035.0</td>\n",
       "      <td>11443.0</td>\n",
       "      <td>Closed</td>\n",
       "      <td>Santa Clara</td>\n",
       "      <td>Santa Clara County Office of Education</td>\n",
       "      <td>Pathfinder High</td>\n",
       "      <td>370-B South King Road</td>\n",
       "      <td>370-B South King Rd.</td>\n",
       "      <td>San Jose</td>\n",
       "      <td>...</td>\n",
       "      <td>66.0</td>\n",
       "      <td>High Schools (Public)</td>\n",
       "      <td>TRAD</td>\n",
       "      <td>Traditional</td>\n",
       "      <td>HS</td>\n",
       "      <td>High School</td>\n",
       "      <td>NaN</td>\n",
       "      <td>NaN</td>\n",
       "      <td>NaN</td>\n",
       "      <td>NaN</td>\n",
       "    </tr>\n",
       "    <tr>\n",
       "      <th>3</th>\n",
       "      <td>4.310000e+13</td>\n",
       "      <td>691035.0</td>\n",
       "      <td>11790.0</td>\n",
       "      <td>Closed</td>\n",
       "      <td>Santa Clara</td>\n",
       "      <td>Santa Clara County Office of Education</td>\n",
       "      <td>Advent Community Day</td>\n",
       "      <td>1290 Ridder Park Drive MC 213</td>\n",
       "      <td>1290 Ridder Park Dr. MC 213</td>\n",
       "      <td>San Jose</td>\n",
       "      <td>...</td>\n",
       "      <td>69.0</td>\n",
       "      <td>District Community Day Schools</td>\n",
       "      <td>COMMDAY</td>\n",
       "      <td>Community Day School</td>\n",
       "      <td>HS</td>\n",
       "      <td>High School</td>\n",
       "      <td>NaN</td>\n",
       "      <td>NaN</td>\n",
       "      <td>NaN</td>\n",
       "      <td>NaN</td>\n",
       "    </tr>\n",
       "    <tr>\n",
       "      <th>4</th>\n",
       "      <td>4.310000e+13</td>\n",
       "      <td>691035.0</td>\n",
       "      <td>12185.0</td>\n",
       "      <td>Closed</td>\n",
       "      <td>Santa Clara</td>\n",
       "      <td>Santa Clara County Office of Education</td>\n",
       "      <td>South Bay Preparatory</td>\n",
       "      <td>1290 Ridder Park Drive MC 243</td>\n",
       "      <td>1290 Ridder Park Dr. MC 243</td>\n",
       "      <td>San Jose</td>\n",
       "      <td>...</td>\n",
       "      <td>65.0</td>\n",
       "      <td>K-12 Schools (Public)</td>\n",
       "      <td>TRAD</td>\n",
       "      <td>Traditional</td>\n",
       "      <td>ELEMHIGH</td>\n",
       "      <td>Elementary-High Combination</td>\n",
       "      <td>NaN</td>\n",
       "      <td>NaN</td>\n",
       "      <td>37.383703</td>\n",
       "      <td>-121.90134</td>\n",
       "    </tr>\n",
       "  </tbody>\n",
       "</table>\n",
       "<p>5 rows × 29 columns</p>\n",
       "</div>"
      ],
      "text/plain": [
       "        CDSCode  NCESDist  NCESSchool StatusType       County  \\\n",
       "0  4.310000e+13  691035.0     11316.0     Closed  Santa Clara   \n",
       "1  4.310000e+13  691035.0     11441.0     Closed  Santa Clara   \n",
       "2  4.310000e+13  691035.0     11443.0     Closed  Santa Clara   \n",
       "3  4.310000e+13  691035.0     11790.0     Closed  Santa Clara   \n",
       "4  4.310000e+13  691035.0     12185.0     Closed  Santa Clara   \n",
       "\n",
       "                                 District  \\\n",
       "0  Santa Clara County Office of Education   \n",
       "1  Santa Clara County Office of Education   \n",
       "2  Santa Clara County Office of Education   \n",
       "3  Santa Clara County Office of Education   \n",
       "4  Santa Clara County Office of Education   \n",
       "\n",
       "                                 School                         Street  \\\n",
       "0                                  EDGE        258 Sunol Street MC 331   \n",
       "1  Leadership Public Schools - San Jose         1881 Cunningham Avenue   \n",
       "2                       Pathfinder High          370-B South King Road   \n",
       "3                  Advent Community Day  1290 Ridder Park Drive MC 213   \n",
       "4                 South Bay Preparatory  1290 Ridder Park Drive MC 243   \n",
       "\n",
       "                     StreetAbr      City    ...       SOC  \\\n",
       "0         258 Sunol St. MC 331  San Jose    ...      69.0   \n",
       "1         1881 Cunningham Ave.  San Jose    ...      66.0   \n",
       "2         370-B South King Rd.  San Jose    ...      66.0   \n",
       "3  1290 Ridder Park Dr. MC 213  San Jose    ...      69.0   \n",
       "4  1290 Ridder Park Dr. MC 243  San Jose    ...      65.0   \n",
       "\n",
       "                          SOCType EdOpsCode             EdOpsName   EILCode  \\\n",
       "0  District Community Day Schools   COMMDAY  Community Day School        HS   \n",
       "1           High Schools (Public)      TRAD           Traditional        HS   \n",
       "2           High Schools (Public)      TRAD           Traditional        HS   \n",
       "3  District Community Day Schools   COMMDAY  Community Day School        HS   \n",
       "4           K-12 Schools (Public)      TRAD           Traditional  ELEMHIGH   \n",
       "\n",
       "                       EILName Virtual  Magnet   Latitude  Longitude  \n",
       "0                  High School     NaN     NaN  37.324874 -121.90609  \n",
       "1                  High School       N       N  37.330395 -121.82878  \n",
       "2                  High School     NaN     NaN        NaN        NaN  \n",
       "3                  High School     NaN     NaN        NaN        NaN  \n",
       "4  Elementary-High Combination     NaN     NaN  37.383703 -121.90134  \n",
       "\n",
       "[5 rows x 29 columns]"
      ]
     },
     "execution_count": 120,
     "metadata": {},
     "output_type": "execute_result"
    }
   ],
   "source": [
    "top5_closed_df.head()"
   ]
  },
  {
   "cell_type": "code",
   "execution_count": 132,
   "metadata": {},
   "outputs": [
    {
     "ename": "TypeError",
     "evalue": "isin() takes 2 positional arguments but 3 were given",
     "output_type": "error",
     "traceback": [
      "\u001b[0;31m---------------------------------------------------------------------------\u001b[0m",
      "\u001b[0;31mTypeError\u001b[0m                                 Traceback (most recent call last)",
      "\u001b[0;32m<ipython-input-132-b77f91834f3d>\u001b[0m in \u001b[0;36m<module>\u001b[0;34m()\u001b[0m\n\u001b[1;32m      3\u001b[0m \u001b[0;34m\u001b[0m\u001b[0m\n\u001b[1;32m      4\u001b[0m \u001b[0mall_turnover_sj\u001b[0m \u001b[0;34m=\u001b[0m \u001b[0mall_turnover_df\u001b[0m\u001b[0;34m.\u001b[0m\u001b[0mloc\u001b[0m\u001b[0;34m[\u001b[0m\u001b[0;34m(\u001b[0m\u001b[0mall_turnover_df\u001b[0m\u001b[0;34m[\u001b[0m\u001b[0;34m\"City\"\u001b[0m\u001b[0;34m]\u001b[0m \u001b[0;34m==\u001b[0m \u001b[0;34m\"San Jose\"\u001b[0m\u001b[0;34m)\u001b[0m\u001b[0;34m]\u001b[0m\u001b[0;34m\u001b[0m\u001b[0m\n\u001b[0;32m----> 5\u001b[0;31m \u001b[0mclose_sj\u001b[0m \u001b[0;34m=\u001b[0m \u001b[0mall_turnover_sj\u001b[0m\u001b[0;34m.\u001b[0m\u001b[0mloc\u001b[0m\u001b[0;34m[\u001b[0m\u001b[0mall_turnover_sj\u001b[0m\u001b[0;34m[\u001b[0m\u001b[0;34m\"StatusType\"\u001b[0m\u001b[0;34m]\u001b[0m\u001b[0;34m.\u001b[0m\u001b[0misin\u001b[0m\u001b[0;34m(\u001b[0m\u001b[0;34m\"Closed\"\u001b[0m\u001b[0;34m,\u001b[0m\u001b[0;34m\"Merged\"\u001b[0m\u001b[0;34m)\u001b[0m\u001b[0;34m]\u001b[0m\u001b[0;34m\u001b[0m\u001b[0m\n\u001b[0m\u001b[1;32m      6\u001b[0m \u001b[0mopen_sj\u001b[0m \u001b[0;34m=\u001b[0m \u001b[0mall_turnover_sj\u001b[0m\u001b[0;34m.\u001b[0m\u001b[0mloc\u001b[0m\u001b[0;34m[\u001b[0m\u001b[0mall_turnover_sj\u001b[0m\u001b[0;34m[\u001b[0m\u001b[0;34m\"StatusType\"\u001b[0m\u001b[0;34m]\u001b[0m\u001b[0;34m.\u001b[0m\u001b[0misin\u001b[0m\u001b[0;34m(\u001b[0m\u001b[0;34m\"Active\"\u001b[0m\u001b[0;34m,\u001b[0m\u001b[0;34m\"Pending\"\u001b[0m\u001b[0;34m)\u001b[0m\u001b[0;34m]\u001b[0m\u001b[0;34m\u001b[0m\u001b[0m\n\u001b[1;32m      7\u001b[0m \u001b[0;34m\u001b[0m\u001b[0m\n",
      "\u001b[0;31mTypeError\u001b[0m: isin() takes 2 positional arguments but 3 were given"
     ]
    }
   ],
   "source": [
    "top5_open_df[\"ClosedDate\"] = \"\"\n",
    "all_turnover_df = pd.concat([top5_open_df,top5_closed_df])\n",
    "\n",
    "all_turnover_sj = all_turnover_df.loc[(all_turnover_df[\"City\"] == \"San Jose\")]\n",
    "close_sj = all_turnover_sj.loc[all_turnover_sj[\"StatusType\"].isin(\"Closed\",\"Merged\")]\n",
    "open_sj = all_turnover_sj.loc[all_turnover_sj[\"StatusType\"].isin(\"Active\",\"Pending\")]\n",
    "\n",
    "all_turnover_la = all_turnover_df.loc[all_turnover_df[\"City\"] == \"Los Angeles\"]\n",
    "close_la = all_turnover_la.loc[all_turnover_la[\"StatusType\"].isin(\"Closed\",\"Merged\")]\n",
    "open_la = all_turnover_la.loc[all_turnover_la[\"StatusType\"].isin(\"Active\",\"Pending\")]\n",
    "\n",
    "all_turnover_sf = all_turnover_df.loc[all_turnover_df[\"City\"] == \"San Francisco\"]\n",
    "close_sf = all_turnover_sf.loc[all_turnover_sf[\"StatusType\"].isin(\"Closed\",\"Merged\")]\n",
    "open_sf = all_turnover_sf.loc[all_turnover_sf[\"StatusType\"].isin(\"Active\",\"Pending\")]\n",
    "\n",
    "all_turnover_sd = all_turnover_df.loc[all_turnover_df[\"City\"] == \"San Diego\"]\n",
    "close_sd = all_turnover_sd.loc[all_turnover_sd[\"StatusType\"].isin(\"Closed\",\"Merged\")]\n",
    "open_sd = all_turnover_sd.loc[all_turnover_sd[\"StatusType\"].isin(\"Active\",\"Pending\")]\n",
    "\n",
    "all_turnover_fr = all_turnover_df.loc[all_turnover_df[\"City\"] == \"Fresno\"]\n",
    "close_fr = all_turnover_fr.loc[all_turnover_fr[\"StatusType\"].isin(\"Closed\",\"Merged\")]\n",
    "open_fr = all_turnover_fr.loc[all_turnover_fr[\"StatusType\"].isin(\"Active\",\"Pending\")]\n",
    "\n"
   ]
  },
  {
   "cell_type": "code",
   "execution_count": 133,
   "metadata": {},
   "outputs": [
    {
     "data": {
      "text/plain": [
       "CDSCode        float64\n",
       "Charter         object\n",
       "CharterNum     float64\n",
       "City            object\n",
       "ClosedDate      object\n",
       "County          object\n",
       "DOC              int64\n",
       "DOCType         object\n",
       "District        object\n",
       "EILCode         object\n",
       "EILName         object\n",
       "EdOpsCode       object\n",
       "EdOpsName       object\n",
       "FundingType     object\n",
       "Latitude       float64\n",
       "Longitude      float64\n",
       "Magnet          object\n",
       "NCESDist       float64\n",
       "NCESSchool     float64\n",
       "OpenDate        object\n",
       "SOC            float64\n",
       "SOCType         object\n",
       "School          object\n",
       "State           object\n",
       "StatusType      object\n",
       "Street          object\n",
       "StreetAbr       object\n",
       "Virtual         object\n",
       "Zip             object\n",
       "dtype: object"
      ]
     },
     "execution_count": 133,
     "metadata": {},
     "output_type": "execute_result"
    }
   ],
   "source": [
    "all_turnover_df.dtypes"
   ]
  },
  {
   "cell_type": "code",
   "execution_count": 134,
   "metadata": {},
   "outputs": [
    {
     "data": {
      "text/plain": [
       "Active     31\n",
       "Closed     17\n",
       "Merged      7\n",
       "Pending     1\n",
       "Name: StatusType, dtype: int64"
      ]
     },
     "execution_count": 134,
     "metadata": {},
     "output_type": "execute_result"
    }
   ],
   "source": [
    "all_turnover_fr[\"StatusType\"].value_counts()"
   ]
  },
  {
   "cell_type": "code",
   "execution_count": 138,
   "metadata": {},
   "outputs": [
    {
     "data": {
      "image/png": "[encoded data removed]",
      "text/plain": [
       "<matplotlib.figure.Figure at 0x11b20dd30>"
      ]
     },
     "metadata": {},
     "output_type": "display_data"
    }
   ],
   "source": [
    "N=5\n",
    "\n",
    "closedschools = [close_sj[\"StatusType\"].count()/1.025,\n",
    "                 close_sf[\"StatusType\"].count()/0.864,\n",
    "                 close_sd[\"StatusType\"].count()/1.407,\n",
    "                 close_la[\"StatusType\"].count()/3.976,\n",
    "                 close_fr[\"StatusType\"].count()/0.522]\n",
    "\n",
    "openedschools = [open_sj[\"StatusType\"].count()/1.025,\n",
    "                  open_sf[\"StatusType\"].count()/0.864,\n",
    "                  open_sd[\"StatusType\"].count()/1.407,\n",
    "                  open_la[\"StatusType\"].count()/3.976,\n",
    "                  open_fr[\"StatusType\"].count()/0.522]\n",
    "\n",
    "fig, ax = plt.subplots()\n",
    "\n",
    "ind = np.arange(N)\n",
    "width = 0.35\n",
    "\n",
    "p1 = ax.bar(ind, openedschools , width, color='g')\n",
    "p2 = ax.bar(ind + width, closedschools, width,\n",
    "            color='r')\n",
    "\n",
    "ax.set_title('Schools Opened or Closed in the Past 10 Years (Per 1M Residents)')\n",
    "ax.set_xticks(ind + width / 2)\n",
    "\n",
    "\n",
    "ax.set_xticklabels(('San Jose', 'San Francisco', 'San Diego', 'Los Angeles', 'Fresno'))\n",
    "ax.legend((p1[0], p2[0]), ('Opened', 'Closed'))\n",
    "ax.autoscale_view()\n",
    "\n",
    "plt.savefig(\"Open-Close_top5\")\n",
    "plt.show()"
   ]
  },
  {
   "cell_type": "code",
   "execution_count": 139,
   "metadata": {
    "collapsed": true
   },
   "outputs": [],
   "source": [
    "ocharter_sj = open_sj.loc[open_sj[\"Charter\"] == \"Y\"]\n",
    "opublic_sj = open_sj.loc[open_sj[\"Charter\"] == \"N\"]\n",
    "\n",
    "ocharter_la = open_la.loc[open_la[\"Charter\"] == \"Y\"]\n",
    "opublic_la = open_la.loc[open_la[\"Charter\"] == \"N\"]\n",
    "\n",
    "ocharter_sf = open_sf.loc[open_sf[\"Charter\"] == \"Y\"]\n",
    "opublic_sf = open_sf.loc[open_sf[\"Charter\"] == \"N\"]\n",
    "\n",
    "ocharter_sd = open_sd.loc[open_sd[\"Charter\"] == \"Y\"]\n",
    "opublic_sd = open_sd.loc[open_sd[\"Charter\"] == \"N\"]\n",
    "\n",
    "ocharter_fr = open_fr.loc[open_fr[\"Charter\"] == \"Y\"]\n",
    "opublic_fr = open_fr.loc[open_fr[\"Charter\"] == \"N\"]"
   ]
  },
  {
   "cell_type": "code",
   "execution_count": 140,
   "metadata": {},
   "outputs": [
    {
     "data": {
      "image/png": "[encoded data removed]",
      "text/plain": [
       "<matplotlib.figure.Figure at 0x11b58ee80>"
      ]
     },
     "metadata": {},
     "output_type": "display_data"
    }
   ],
   "source": [
    "N=5\n",
    "\n",
    "charterschools = [ocharter_sj[\"StatusType\"].count()/1.025,\n",
    "                  ocharter_sf[\"StatusType\"].count()/0.864,\n",
    "                  ocharter_sd[\"StatusType\"].count()/1.407,\n",
    "                  ocharter_la[\"StatusType\"].count()/3.976,\n",
    "                  ocharter_fr[\"StatusType\"].count()/0.522]\n",
    "\n",
    "publicschools = [opublic_sj[\"StatusType\"].count()/1.025,\n",
    "                 opublic_sf[\"StatusType\"].count()/0.864,\n",
    "                 opublic_sd[\"StatusType\"].count()/1.407,\n",
    "                 opublic_la[\"StatusType\"].count()/3.976,\n",
    "                 opublic_fr[\"StatusType\"].count()/0.522]\n",
    "\n",
    "fig, ax = plt.subplots()\n",
    "\n",
    "ind = np.arange(N)\n",
    "width = 0.35\n",
    "\n",
    "p1 = ax.bar(ind, charterschools , width, color='b')\n",
    "p2 = ax.bar(ind + width, publicschools, width,\n",
    "            color='y')\n",
    "\n",
    "ax.set_title('Public vs. Charter Schools Opened in the Past 10 Years')\n",
    "ax.set_xticks(ind + width / 2)\n",
    "\n",
    "\n",
    "ax.set_xticklabels(('San Jose', 'San Francisco', 'San Diego', 'Los Angeles', 'Fresno'))\n",
    "ax.legend((p1[0], p2[0]), ('Charter', 'Public'))\n",
    "ax.autoscale_view()\n",
    "\n",
    "plt.savefig(\"PvC-Open\")\n",
    "plt.show()"
   ]
  },
  {
   "cell_type": "code",
   "execution_count": 141,
   "metadata": {
    "collapsed": true
   },
   "outputs": [],
   "source": [
    "ccharter_sj = close_sj.loc[close_sj[\"Charter\"] == \"Y\"]\n",
    "cpublic_sj = close_sj.loc[close_sj[\"Charter\"] == \"N\"]\n",
    "\n",
    "ccharter_la = close_la.loc[close_la[\"Charter\"] == \"Y\"]\n",
    "cpublic_la = close_la.loc[close_la[\"Charter\"] == \"N\"]\n",
    "\n",
    "ccharter_sf = close_sf.loc[close_sf[\"Charter\"] == \"Y\"]\n",
    "cpublic_sf = close_sf.loc[close_sf[\"Charter\"] == \"N\"]\n",
    "\n",
    "ccharter_sd = close_sd.loc[close_sd[\"Charter\"] == \"Y\"]\n",
    "cpublic_sd = close_sd.loc[close_sd[\"Charter\"] == \"N\"]\n",
    "\n",
    "ccharter_fr = close_fr.loc[close_fr[\"Charter\"] == \"Y\"]\n",
    "cpublic_fr = close_fr.loc[close_fr[\"Charter\"] == \"N\"]"
   ]
  },
  {
   "cell_type": "code",
   "execution_count": 142,
   "metadata": {},
   "outputs": [
    {
     "data": {
      "image/png": "[encoded data removed]",
      "text/plain": [
       "<matplotlib.figure.Figure at 0x11b805dd8>"
      ]
     },
     "metadata": {},
     "output_type": "display_data"
    }
   ],
   "source": [
    "N=5\n",
    "\n",
    "ccharterschools = [ccharter_sj[\"StatusType\"].count()/1.025,\n",
    "                  ccharter_sf[\"StatusType\"].count()/0.864,\n",
    "                  ccharter_sd[\"StatusType\"].count()/1.407,\n",
    "                  ccharter_la[\"StatusType\"].count()/3.976,\n",
    "                  ccharter_fr[\"StatusType\"].count()/0.522]\n",
    "\n",
    "cpublicschools = [cpublic_sj[\"StatusType\"].count()/1.025,\n",
    "                 cpublic_sf[\"StatusType\"].count()/0.864,\n",
    "                 cpublic_sd[\"StatusType\"].count()/1.407,\n",
    "                 cpublic_la[\"StatusType\"].count()/3.976,\n",
    "                 cpublic_fr[\"StatusType\"].count()/0.522]\n",
    "\n",
    "fig, ax = plt.subplots()\n",
    "\n",
    "ind = np.arange(N)\n",
    "width = 0.35\n",
    "\n",
    "p1 = ax.bar(ind, ccharterschools , width, color='b')\n",
    "p2 = ax.bar(ind + width, cpublicschools, width,\n",
    "            color='y')\n",
    "\n",
    "ax.set_title('Public vs. Charter Schools Closed in the Past 10 Years')\n",
    "ax.set_xticks(ind + width / 2)\n",
    "\n",
    "\n",
    "ax.set_xticklabels(('San Jose', 'San Francisco', 'San Diego', 'Los Angeles', 'Fresno'))\n",
    "ax.legend((p1[0], p2[0]), ('Charter', 'Public'))\n",
    "ax.autoscale_view()\n",
    "\n",
    "plt.savefig(\"PvC-Closed\")\n",
    "plt.show()"
   ]
  },
  {
   "cell_type": "code",
   "execution_count": null,
   "metadata": {
    "collapsed": true
   },
   "outputs": [],
   "source": []
  }
 ],
 "metadata": {
  "kernelspec": {
   "display_name": "Python [default]",
   "language": "python",
   "name": "python3"
  },
  "language_info": {
   "codemirror_mode": {
    "name": "ipython",
    "version": 3
   },
   "file_extension": ".py",
   "mimetype": "text/x-python",
   "name": "python",
   "nbconvert_exporter": "python",
   "pygments_lexer": "ipython3",
   "version": "3.6.1"
  }
 },
 "nbformat": 4,
 "nbformat_minor": 2
}
